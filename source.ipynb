{
 "cells": [
  {
   "attachments": {},
   "cell_type": "markdown",
   "metadata": {},
   "source": [
    "# {Project Title}📝\n",
    "\n",
    "Rural Poverty in Developing Countries\n",
    "\n",
    "![Banner](./assets/banner.jpeg)"
   ]
  },
  {
   "attachments": {},
   "cell_type": "markdown",
   "metadata": {},
   "source": [
    "## Topic\n",
    "*What problem are you (or your stakeholder) trying to address?*\n",
    "I am trying to address Rural Poverty in Developing Countries"
   ]
  },
  {
   "attachments": {},
   "cell_type": "markdown",
   "metadata": {},
   "source": [
    "## Project Question\n",
    "*What specific question are you seeking to answer with this project?*\n",
    "*This is not the same as the questions you ask to limit the scope of the project.*\n",
    "📝 <!-- Answer Below -->"
   ]
  },
  {
   "cell_type": "code",
   "execution_count": null,
   "metadata": {},
   "outputs": [],
   "source": [
    "The questions are;\n",
    "\n",
    "What are the primary causes of rural poverty in developing countries?\n",
    "How does rural poverty vary across different regions and countries?\n",
    "What specific challenges do rural populations face, such as lack of infrastructure, access to education, and healthcare?\n",
    "What interventions and policies have proven effective in reducing rural poverty?\n",
    "What are the short-term and long-term consequences of rural poverty on individuals and communities?"
   ]
  },
  {
   "attachments": {},
   "cell_type": "markdown",
   "metadata": {},
   "source": [
    "## What would an answer look like?\n",
    "*What is your hypothesized answer to your question?*\n",
    "📝 <!-- Answer Below -->"
   ]
  },
  {
   "cell_type": "code",
   "execution_count": null,
   "metadata": {},
   "outputs": [],
   "source": [
    "The answer I am trying to give is why there are rural proverty in developing countries and ways to improve them to make the lives of people better"
   ]
  },
  {
   "attachments": {},
   "cell_type": "markdown",
   "metadata": {},
   "source": [
    "## Data Sources\n",
    "*What 3 data sources have you identified for this project?*\n",
    "*How are you going to relate these datasets?*\n",
    "📝 <!-- Answer Below -->"
   ]
  },
  {
   "cell_type": "code",
   "execution_count": null,
   "metadata": {},
   "outputs": [],
   "source": [
    "These are the data sources I am trying to use for this project\n",
    "Khan, M. H. (n.d.).Finance and development. Finance and Development | F&D. https://www.imf.org/external/pubs/ft/fandd/2000/12/khan.htm \n",
    "World development indicators. DataBank. (n.d.). https://databank.worldbank.org/source/world-development-indicators\n",
    "Khan. (2000).Rural Poverty in Developing Countries--Issues and Policies. International Monetary Fund."
   ]
  },
  {
   "attachments": {},
   "cell_type": "markdown",
   "metadata": {},
   "source": [
    "## Approach and Analysis\n",
    "*What is your approach to answering your project question?*\n",
    "*How will you use the identified data to answer your project question?*\n",
    "📝 <!-- Start Discussing the project here; you can add as many code cells as you need -->"
   ]
  },
  {
   "cell_type": "code",
   "execution_count": 1,
   "metadata": {},
   "outputs": [],
   "source": [
    "# Start your code here\n",
    "\n",
    "Process, Analyze:\n",
    "\n",
    "# I plan to clean and preprocess the data, to address missing values and outliers.\n",
    "# I will conduct statistical analyses to identify correlations and trends related to rural poverty.\n",
    "# I will utilize regression analysis to model factors contributing to rural poverty and forecast future trends.\n",
    "# I also plan to implement clustering algorithms to categorize rural areas based on poverty levels and related factors."
   ]
  },
  {
   "cell_type": "code",
   "execution_count": 3,
   "metadata": {},
   "outputs": [
    {
     "name": "stdout",
     "output_type": "stream",
     "text": [
      "                                         Series Name  Series Code  \\\n",
      "0  Rural poverty headcount ratio at national pove...  SI.POV.RUHC   \n",
      "1  Rural poverty headcount ratio at national pove...  SI.POV.RUHC   \n",
      "2  Rural poverty headcount ratio at national pove...  SI.POV.RUHC   \n",
      "3  Rural poverty headcount ratio at national pove...  SI.POV.RUHC   \n",
      "4  Rural poverty headcount ratio at national pove...  SI.POV.RUHC   \n",
      "\n",
      "  Country Name Country Code    Time Time Code  Value  \n",
      "0  Afghanistan          AFG  2000.0    YR2000    NaN  \n",
      "1  Afghanistan          AFG  2001.0    YR2001    NaN  \n",
      "2  Afghanistan          AFG  2002.0    YR2002    NaN  \n",
      "3  Afghanistan          AFG  2003.0    YR2003    NaN  \n",
      "4  Afghanistan          AFG  2004.0    YR2004    NaN  \n"
     ]
    }
   ],
   "source": [
    "import requests\n",
    "import pandas as pd\n",
    "\n",
    "# URL of the dataset\n",
    "url = \"https://data.apps.fao.org/catalog/dataset/6d4251eb-d44e-489d-82fb-31422c2b5b64/resource/01e5892d-fe1d-45de-b126-25a0deb35f81/download/si.pov.ruhc.csv\"\n",
    "\n",
    "# Fetch the data from the URL\n",
    "response = requests.get(url)\n",
    "\n",
    "if response.status_code == 200:\n",
    "    # Read the content as a Pandas DataFrame\n",
    "    data = pd.read_csv(url)\n",
    "\n",
    "    # Display the first few rows of the dataset to verify\n",
    "    print(data.head())\n",
    "else:\n",
    "    print(\"Failed to fetch the data. Status code:\", response.status_code)\n"
   ]
  },
  {
   "attachments": {},
   "cell_type": "markdown",
   "metadata": {},
   "source": [
    "## Resources and References\n",
    "*What resources and references have you used for this project?*\n",
    "📝 <!-- Answer Below -->"
   ]
  },
  {
   "cell_type": "code",
   "execution_count": 2,
   "metadata": {},
   "outputs": [
    {
     "name": "stderr",
     "output_type": "stream",
     "text": [
      "[NbConvertApp] Converting notebook source.ipynb to python\n",
      "[NbConvertApp] Writing 3160 bytes to source.py\n"
     ]
    }
   ],
   "source": [
    "# ⚠️ Make sure you run this cell at the end of your notebook before every submission!\n",
    "!jupyter nbconvert --to python source.ipynb"
   ]
  }
 ],
 "metadata": {
  "kernelspec": {
   "display_name": "Final-Project-Template-unx06iZ2",
   "language": "python",
   "name": "python3"
  },
  "language_info": {
   "codemirror_mode": {
    "name": "ipython",
    "version": 3
   },
   "file_extension": ".py",
   "mimetype": "text/x-python",
   "name": "python",
   "nbconvert_exporter": "python",
   "pygments_lexer": "ipython3",
   "version": "3.10.9"
  },
  "orig_nbformat": 4,
  "vscode": {
   "interpreter": {
    "hash": "8f59090b806211711d8ea6da25ee5b1ccb272a75a21b9536283520350d8dfda7"
   }
  }
 },
 "nbformat": 4,
 "nbformat_minor": 2
}
